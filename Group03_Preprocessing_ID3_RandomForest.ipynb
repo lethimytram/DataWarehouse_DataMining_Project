{
 "cells": [
  {
   "cell_type": "code",
   "execution_count": 3,
   "id": "2e1d9242-bbcb-4c94-9434-2692357a0630",
   "metadata": {},
   "outputs": [
    {
     "name": "stdout",
     "output_type": "stream",
     "text": [
      "  Gioi_tinh Tuoi_binned  Cao_huyet_ap  Benh_tim Hut_thuoc  \\\n",
      "0        Nu         >40             0         1     Khong   \n",
      "1        Nu         >40             0         0     Khong   \n",
      "2       Nam       20-40             0         0     Khong   \n",
      "3        Nu       20-40             0         0        Co   \n",
      "4       Nam         >40             1         1        Co   \n",
      "\n",
      "  Chi_so_co_the_binned Duong_huyet_binned  Ket_qua  \n",
      "0              25-29.9              <=150        0  \n",
      "1              25-29.9              <=150        0  \n",
      "2                 >=30               >150        1  \n",
      "3            18.5-24.9               >150        1  \n",
      "4            18.5-24.9               >150        1  \n"
     ]
    }
   ],
   "source": [
    "import pandas as pd\n",
    "\n",
    "# Đọc file CSV\n",
    "df = pd.read_csv(r'C:\\Downloads\\DataVeTieuDuong.csv')\n",
    "\n",
    "# Hàm phân lớp\n",
    "def binning(cot, khoang, nhan):\n",
    "    return pd.cut(cot, bins=khoang, labels=nhan)\n",
    "\n",
    "# Phân lớp Tuoi\n",
    "khoang_tuoi = [-float('inf'), 20, 40, float('inf')]\n",
    "nhan_tuoi = ['<20', '20-40', '>40']\n",
    "df.insert(df.columns.get_loc('Tuoi') + 1, 'Tuoi_binned', binning(df['Tuoi'], khoang_tuoi, nhan_tuoi))\n",
    "\n",
    "# Phân lớp Chi_so_co_the (BMI)\n",
    "khoang_bmi = [-float('inf'), 18.5, 24.9, 29.9, float('inf')]\n",
    "nhan_bmi = ['<18.5', '18.5-24.9', '25-29.9', '>=30']\n",
    "df.insert(df.columns.get_loc('Chi_so_co_the') + 1, 'Chi_so_co_the_binned', binning(df['Chi_so_co_the'], khoang_bmi, nhan_bmi))\n",
    "\n",
    "# Phân lớp Duong_huyet\n",
    "khoang_duong = [-float('inf'), 150, float('inf')]\n",
    "nhan_duong = ['<=150', '>150']\n",
    "df.insert(df.columns.get_loc('Duong_huyet') + 1, 'Duong_huyet_binned', binning(df['Duong_huyet'], khoang_duong, nhan_duong))\n",
    "\n",
    "# XÓA các cột gốc\n",
    "df.drop(columns=['Tuoi', 'Chi_so_co_the', 'Duong_huyet'], inplace=True)\n",
    "\n",
    "# Lưu kết quả\n",
    "df.to_csv('C:\\Downloads\\DataVeTieuDuong_binned.csv', index=False)\n",
    "print(df.head())"
   ]
  }
 ],
 "metadata": {
  "kernelspec": {
   "display_name": "Python 3 (ipykernel)",
   "language": "python",
   "name": "python3"
  },
  "language_info": {
   "codemirror_mode": {
    "name": "ipython",
    "version": 3
   },
   "file_extension": ".py",
   "mimetype": "text/x-python",
   "name": "python",
   "nbconvert_exporter": "python",
   "pygments_lexer": "ipython3",
   "version": "3.11.2"
  }
 },
 "nbformat": 4,
 "nbformat_minor": 5
}
