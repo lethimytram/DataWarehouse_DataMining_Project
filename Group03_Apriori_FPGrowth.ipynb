{
 "cells": [
  {
   "cell_type": "markdown",
   "id": "1feb2ec6",
   "metadata": {},
   "source": [
    "# Tiền xử lý dữ liệu"
   ]
  },
  {
   "cell_type": "code",
   "execution_count": null,
   "id": "df678867",
   "metadata": {},
   "outputs": [
    {
     "ename": "",
     "evalue": "",
     "output_type": "error",
     "traceback": [
      "\u001b[1;31mRunning cells with 'base (Python 3.12.5)' requires the ipykernel package.\n",
      "\u001b[1;31m<a href='command:jupyter.createPythonEnvAndSelectController'>Create a Python Environment</a> with the required packages.\n",
      "\u001b[1;31mOr install 'ipykernel' using the command: 'conda install -n base ipykernel --update-deps --force-reinstall'"
     ]
    }
   ],
   "source": [
    "import pandas as pd\n",
    "from mlxtend.preprocessing import TransactionEncoder\n",
    "# 2 thư viện sau dùng cho xây dựng mô hình Apriori, Fpgrowth, So sánh kết quả\n",
    "import time\n",
    "from mlxtend.frequent_patterns import apriori, fpgrowth, association_rules\n",
    "\n",
    "# Tải tập dữ liệu\n",
    "df = pd.read_csv('car_wash_transactions.csv')\n",
    "\n",
    "# Loại bỏ các cột không cần thiết\n",
    "df = df.drop(columns=['TID', 'Date', 'TotalPrice'])\n",
    "\n",
    "# Chuyển đổi tập dữ liệu sang danh sách các giao dịch và loại bỏ NaN\n",
    "transactions = df.applymap(str).values.tolist()\n",
    "transactions = [[item for item in transaction if item != 'nan'] for transaction in transactions]\n",
    "\n",
    "# Chuyển đổi tập dữ liệu sang định dạng one-hot encoding\n",
    "te = TransactionEncoder()\n",
    "te_ary = te.fit(transactions).transform(transactions)\n",
    "df_encoded = pd.DataFrame(te_ary, columns=te.columns_)\n",
    "df_encoded"
   ]
  },
  {
   "cell_type": "markdown",
   "id": "80552772",
   "metadata": {},
   "source": [
    "# So sánh thời gian thực hiện Apriori & FP-Growth "
   ]
  },
  {
   "cell_type": "code",
   "execution_count": null,
   "id": "62bedf02",
   "metadata": {},
   "outputs": [],
   "source": [
    "# Định nghĩa ngưỡng hỗ trợ tối thiểu\n",
    "min_support = 0.2\n",
    "min_confidence = 0.5\n",
    "\n",
    "# Đo thời gian thực thi cho Apriori\n",
    "start_time_apriori = time.time()\n",
    "frequent_itemsets_apriori = apriori(df_encoded, min_support=min_support, use_colnames=True)\n",
    "apriori_time = time.time() - start_time_apriori\n",
    "\n",
    "# Đo thời gian thực thi cho FP-Growth\n",
    "start_time_fpgrowth = time.time()\n",
    "frequent_itemsets_fpgrowth = fpgrowth(df_encoded, min_support=min_support, use_colnames=True)\n",
    "fpgrowth_time = time.time() - start_time_fpgrowth\n",
    "\n",
    "# So sánh thời gian\n",
    "print(\"\\nSo sánh thời gian:\")\n",
    "print(f\"Apriori: {apriori_time:.4f} giây\")\n",
    "print(f\"FP-Growth: {fpgrowth_time:.4f} giây\")\n",
    "print(f\"Tỷ lệ thời gian (Apriori/ FPGrowth): {apriori_time / fpgrowth_time:.4f}\")"
   ]
  },
  {
   "cell_type": "markdown",
   "id": "312baa41",
   "metadata": {},
   "source": [
    "# Apriori"
   ]
  },
  {
   "cell_type": "code",
   "execution_count": null,
   "id": "d560af2f",
   "metadata": {},
   "outputs": [],
   "source": [
    "# Định nghĩa ngưỡng hỗ trợ tối thiểu\n",
    "min_support = 0.2\n",
    "\n",
    "# Thực hiện khai thác tập mục thường xuyên bằng FPGrowth\n",
    "frequent_itemsets = apriori(df_encoded, min_support=min_support, use_colnames=True)\n",
    "\n",
    "# Tạo các luật kết hợp với ngưỡng độ tin cậy tối thiểu\n",
    "min_confidence = 0.5\n",
    "association_rules_df = association_rules(frequent_itemsets, metric=\"confidence\", min_threshold=min_confidence)\n",
    "\n",
    "# Xuất các tập mục thường xuyên và các luật kết hợp ra file CSV\n",
    "frequent_itemsets.to_csv('frequent_itemsets_apriori.csv', index=False)\n",
    "association_rules_df[['antecedents', \n",
    "                      'consequents', \n",
    "                      'antecedent support', \n",
    "                      'consequent support', \n",
    "                      'support', \n",
    "                      'confidence',''\n",
    "                      'lift']].to_csv('association_rules_apriori.csv', index=False)"
   ]
  },
  {
   "cell_type": "markdown",
   "id": "ac54b5f1",
   "metadata": {},
   "source": [
    "# FP-Growth"
   ]
  },
  {
   "cell_type": "code",
   "execution_count": null,
   "id": "7beb479a",
   "metadata": {},
   "outputs": [],
   "source": [
    "# Định nghĩa ngưỡng hỗ trợ tối thiểu\n",
    "min_support = 0.2\n",
    "\n",
    "# Thực hiện khai thác tập mục thường xuyên bằng FP-Growth\n",
    "frequent_itemsets = fpgrowth(df_encoded, min_support=min_support, use_colnames=True)\n",
    "\n",
    "# Tạo các luật kết hợp với ngưỡng độ tin cậy tối thiểu\n",
    "min_confidence = 0.5\n",
    "association_rules_df = association_rules(frequent_itemsets, metric=\"confidence\", min_threshold=min_confidence)\n",
    "\n",
    "# Xuất các tập mục thường xuyên và các luật kết hợp ra file CSV\n",
    "frequent_itemsets.to_csv('frequent_itemsets_fpgrowth.csv', index=False)\n",
    "association_rules_df[['antecedents', \n",
    "                      'consequents', \n",
    "                      'antecedent support', \n",
    "                      'consequent support', \n",
    "                      'support', \n",
    "                      'confidence',''\n",
    "                      'lift']].to_csv('association_rules_fp.csv', index=False)"
   ]
  }
 ],
 "metadata": {
  "kernelspec": {
   "display_name": "base",
   "language": "python",
   "name": "python3"
  },
  "language_info": {
   "codemirror_mode": {
    "name": "ipython",
    "version": 3
   },
   "file_extension": ".py",
   "mimetype": "text/x-python",
   "name": "python",
   "nbconvert_exporter": "python",
   "pygments_lexer": "ipython3",
   "version": "3.12.5"
  }
 },
 "nbformat": 4,
 "nbformat_minor": 5
}
